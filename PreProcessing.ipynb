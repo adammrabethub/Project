{
  "nbformat": 4,
  "nbformat_minor": 0,
  "metadata": {
    "colab": {
      "provenance": []
    },
    "kernelspec": {
      "name": "python3",
      "display_name": "Python 3"
    },
    "language_info": {
      "name": "python"
    }
  },
  "cells": [
    {
      "cell_type": "code",
      "execution_count": 1,
      "metadata": {
        "colab": {
          "base_uri": "https://localhost:8080/"
        },
        "id": "vAeHNdWEuOBW",
        "outputId": "0854c160-be29-4e08-fefd-176b7eb9a765"
      },
      "outputs": [
        {
          "output_type": "stream",
          "name": "stdout",
          "text": [
            "Training Set: (737, 57), Validation Set: (158, 57), Test Set: (158, 57)\n"
          ]
        },
        {
          "output_type": "stream",
          "name": "stderr",
          "text": [
            "<ipython-input-1-1e415b15ed79>:18: FutureWarning: A value is trying to be set on a copy of a DataFrame or Series through chained assignment using an inplace method.\n",
            "The behavior will change in pandas 3.0. This inplace method will never work because the intermediate object on which we are setting values always behaves as a copy.\n",
            "\n",
            "For example, when doing 'df[col].method(value, inplace=True)', try using 'df.method({col: value}, inplace=True)' or df[col] = df[col].method(value) instead, to perform the operation inplace on the original object.\n",
            "\n",
            "\n",
            "  df_cleaned[col].fillna(df_cleaned[col].mean(), inplace=True)  # Fill numerical with mean\n",
            "<ipython-input-1-1e415b15ed79>:16: FutureWarning: A value is trying to be set on a copy of a DataFrame or Series through chained assignment using an inplace method.\n",
            "The behavior will change in pandas 3.0. This inplace method will never work because the intermediate object on which we are setting values always behaves as a copy.\n",
            "\n",
            "For example, when doing 'df[col].method(value, inplace=True)', try using 'df.method({col: value}, inplace=True)' or df[col] = df[col].method(value) instead, to perform the operation inplace on the original object.\n",
            "\n",
            "\n",
            "  df_cleaned[col].fillna(df_cleaned[col].mode()[0], inplace=True)  # Fill categorical with mode\n",
            "/usr/local/lib/python3.11/dist-packages/sklearn/utils/extmath.py:1101: RuntimeWarning: invalid value encountered in divide\n",
            "  updated_mean = (last_sum + new_sum) / updated_sample_count\n",
            "/usr/local/lib/python3.11/dist-packages/sklearn/utils/extmath.py:1106: RuntimeWarning: invalid value encountered in divide\n",
            "  T = new_sum / new_sample_count\n",
            "/usr/local/lib/python3.11/dist-packages/sklearn/utils/extmath.py:1126: RuntimeWarning: invalid value encountered in divide\n",
            "  new_unnormalized_variance -= correction**2 / new_sample_count\n"
          ]
        }
      ],
      "source": [
        "import pandas as pd\n",
        "from sklearn.model_selection import train_test_split\n",
        "from sklearn.preprocessing import StandardScaler, LabelEncoder\n",
        "\n",
        "# Load dataset\n",
        "file_path = \"/NSCLC ML RESEARCH.csv\"\n",
        "df = pd.read_csv(file_path)\n",
        "\n",
        "# Drop irrelevant columns\n",
        "irrelevant_columns = [\"Study ID\", \"Patient ID\", \"Sample ID\", \"Form completion date\", \"Other Patient ID\"]\n",
        "df_cleaned = df.drop(columns=irrelevant_columns, errors='ignore')\n",
        "\n",
        "# Handle missing values: Fill numerical with mean, categorical with mode\n",
        "for col in df_cleaned.columns:\n",
        "    if df_cleaned[col].dtype == \"object\":\n",
        "        df_cleaned[col].fillna(df_cleaned[col].mode()[0], inplace=True)  # Fill categorical with mode\n",
        "    else:\n",
        "        df_cleaned[col].fillna(df_cleaned[col].mean(), inplace=True)  # Fill numerical with mean\n",
        "\n",
        "# Encode categorical variables\n",
        "label_encoders = {}\n",
        "for col in df_cleaned.select_dtypes(include=['object']).columns:\n",
        "    le = LabelEncoder()\n",
        "    df_cleaned[col] = le.fit_transform(df_cleaned[col])\n",
        "    label_encoders[col] = le  # Store label encoders for inverse transformation if needed\n",
        "\n",
        "# Select target variable (Overall Survival Status)\n",
        "target_column = \"Overall Survival Status\"\n",
        "X = df_cleaned.drop(columns=[target_column], errors='ignore')  # Features\n",
        "y = df_cleaned[target_column]  # Target\n",
        "\n",
        "# Normalize numerical features\n",
        "scaler = StandardScaler()\n",
        "X_scaled = scaler.fit_transform(X)\n",
        "\n",
        "# Split data into Training (70%), Validation (15%), and Test (15%)\n",
        "X_train, X_temp, y_train, y_temp = train_test_split(X_scaled, y, test_size=0.30, random_state=42)\n",
        "X_val, X_test, y_val, y_test = train_test_split(X_temp, y_temp, test_size=0.50, random_state=42)\n",
        "\n",
        "# Display dataset shapes\n",
        "print(f\"Training Set: {X_train.shape}, Validation Set: {X_val.shape}, Test Set: {X_test.shape}\")\n"
      ]
    },
    {
      "cell_type": "code",
      "source": [],
      "metadata": {
        "id": "2jDF79QKuRnR"
      },
      "execution_count": 1,
      "outputs": []
    }
  ]
}